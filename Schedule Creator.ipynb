{
 "cells": [
  {
   "cell_type": "code",
   "execution_count": 1,
   "metadata": {},
   "outputs": [],
   "source": [
    "import pyodbc\n",
    "import pandas as pd\n",
    "import numpy as np\n",
    "from basketball_reference_scraper.teams import get_roster, get_team_stats, get_opp_stats, get_roster_stats, get_team_misc\n",
    "from basketball_reference_scraper.players import get_stats, get_game_logs, get_player_headshot\n",
    "from basketball_reference_scraper.seasons import get_schedule, get_standings\n",
    "from basketball_reference_scraper.box_scores import get_box_scores\n",
    "from basketball_reference_scraper.injury_report import get_injury_report"
   ]
  },
  {
   "cell_type": "code",
   "execution_count": 2,
   "metadata": {},
   "outputs": [],
   "source": [
    "pd.set_option('display.max_rows', 1000)"
   ]
  },
  {
   "cell_type": "code",
   "execution_count": 3,
   "metadata": {},
   "outputs": [],
   "source": [
    "#define server and database name\n",
    "server = 'PHILIP-PC'\n",
    "database = 'BasketballStatsDB'\n",
    "\n",
    "#define connection string\n",
    "connection = pyodbc.connect('DRIVER={ODBC Driver 17 for SQL Server}; \\\n",
    "                                SERVER=' + server + '; \\\n",
    "                                DATABASE='+ database + '; \\\n",
    "                                Trusted_Connection=yes;')\n",
    "\n",
    "#create connection cursor\n",
    "cursor = connection.cursor()"
   ]
  },
  {
   "cell_type": "code",
   "execution_count": 4,
   "metadata": {},
   "outputs": [],
   "source": [
    "team_list = ['ATL', 'BOS', 'BRK', 'CHI', 'CHO', 'CLE', 'DAL', 'DEN',\n",
    "             'DET', 'GSW', 'HOU', 'IND', 'LAC', 'LAL', 'MEM', 'MIA',\n",
    "             'MIL', 'MIN', 'NOP', 'NYK', 'OKC', 'ORL', 'PHI', 'PHO',\n",
    "             'POR', 'SAC', 'SAS', 'TOR', 'UTA', 'WAS']"
   ]
  },
  {
   "cell_type": "code",
   "execution_count": 5,
   "metadata": {},
   "outputs": [
    {
     "name": "stdout",
     "output_type": "stream",
     "text": [
      "2010 successful\n",
      "2011 successful\n",
      "2012 successful\n",
      "2013 successful\n",
      "2014 successful\n",
      "2015 successful\n",
      "2016 successful\n",
      "2017 successful\n",
      "2018 successful\n",
      "2019 successful\n",
      "2020 successful\n"
     ]
    }
   ],
   "source": [
    "#loop through seasons from 2010 - 2020\n",
    "for year in range(2010,2021):\n",
    "    df = get_schedule(year, playoffs=False)\n",
    "    \n",
    "    #define create table query\n",
    "    create_query = 'CREATE TABLE schedule_' + str(year) + '''( \\\n",
    "                        game_date date, \\\n",
    "                        visitor varchar(100), \\\n",
    "                        visitor_pts int, \\\n",
    "                        home varchar(100), \\\n",
    "                        home_pts int \\\n",
    "                    );'''\n",
    "    \n",
    "    #create sql table\n",
    "    cursor.execute(create_query)\n",
    "    \n",
    "    #define insert query\n",
    "    insert_query = 'INSERT INTO schedule_' + str(year) + '''(game_date, visitor, visitor_pts, home, home_pts)\n",
    "                    VALUES (?, ?, ?, ?, ?);'''\n",
    "    \n",
    "    #loop through each row in given season's schedule\n",
    "    for i in df.index:\n",
    "\n",
    "        #define values to insert\n",
    "        values = (df['DATE'][i],df['VISITOR'][i],df['VISITOR_PTS'][i],df['HOME'][i],df['HOME_PTS'][i])\n",
    "\n",
    "        #insert data into sql database\n",
    "        cursor.execute(insert_query, values)\n",
    "        \n",
    "    \n",
    "#commit inserts\n",
    "connection.commit()\n",
    "\n",
    "#close connection and cursor\n",
    "cursor.close()\n",
    "connection.close()"
   ]
  },
  {
   "cell_type": "code",
   "execution_count": null,
   "metadata": {},
   "outputs": [],
   "source": []
  }
 ],
 "metadata": {
  "kernelspec": {
   "display_name": "Python 3",
   "language": "python",
   "name": "python3"
  },
  "language_info": {
   "codemirror_mode": {
    "name": "ipython",
    "version": 3
   },
   "file_extension": ".py",
   "mimetype": "text/x-python",
   "name": "python",
   "nbconvert_exporter": "python",
   "pygments_lexer": "ipython3",
   "version": "3.7.3"
  }
 },
 "nbformat": 4,
 "nbformat_minor": 2
}
